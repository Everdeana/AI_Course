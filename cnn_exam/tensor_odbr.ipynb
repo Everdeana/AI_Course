{
 "cells": [
  {
   "cell_type": "markdown",
   "id": "41f57c8c-4a44-48b5-bc7f-b25c96d53c95",
   "metadata": {},
   "source": [
    "# OverFitting, DropOut, BatchNormalization, Regularization 처리 방법"
   ]
  },
  {
   "cell_type": "code",
   "execution_count": 17,
   "id": "558fba2c-60b8-43da-ac40-1113620ceed6",
   "metadata": {},
   "outputs": [],
   "source": [
    "# 그래프, 연산처리\n",
    "import numpy as np # tensorflow와 많이 충돌할 수 있으므로 버전 확인 필수\n",
    "import pandas as pd\n",
    "import matplotlib.pyplot as plt\n",
    "\n",
    "from sklearn.datasets import make_moons\n",
    "\n",
    "# Tensorflow 처리\n",
    "import tensorflow as tf \n",
    "from tensorflow import keras\n",
    "\n",
    "# 학습 시간 확인\n",
    "import time\n",
    "\n",
    "# Tensorflow 모델 설계\n",
    "from tensorflow.python.keras import optimizers\n",
    "from tensorflow.python.keras.layers import Dense, Input\n"
   ]
  },
  {
   "cell_type": "code",
   "execution_count": 18,
   "id": "ee0679ef-a03d-44bd-9f5c-c1f820956904",
   "metadata": {},
   "outputs": [],
   "source": [
    "x, y = make_moons(n_samples=200, noise=0.4, random_state=16)"
   ]
  },
  {
   "cell_type": "code",
   "execution_count": 19,
   "id": "4442396d-343f-423f-b21c-6fbcaf54502e",
   "metadata": {},
   "outputs": [
    {
     "ename": "TypeError",
     "evalue": "DataFrame.__init__() got an unexpected keyword argument 'label'",
     "output_type": "error",
     "traceback": [
      "\u001b[1;31m---------------------------------------------------------------------------\u001b[0m",
      "\u001b[1;31mTypeError\u001b[0m                                 Traceback (most recent call last)",
      "Cell \u001b[1;32mIn[19], line 1\u001b[0m\n\u001b[1;32m----> 1\u001b[0m df \u001b[38;5;241m=\u001b[39m \u001b[43mpd\u001b[49m\u001b[38;5;241;43m.\u001b[39;49m\u001b[43mDataFrame\u001b[49m\u001b[43m(\u001b[49m\u001b[38;5;28;43mdict\u001b[39;49m\u001b[43m(\u001b[49m\u001b[43mx\u001b[49m\u001b[43m \u001b[49m\u001b[38;5;241;43m=\u001b[39;49m\u001b[43m \u001b[49m\u001b[43mx\u001b[49m\u001b[43m[\u001b[49m\u001b[43m:\u001b[49m\u001b[43m,\u001b[49m\u001b[38;5;241;43m0\u001b[39;49m\u001b[43m]\u001b[49m\u001b[43m,\u001b[49m\u001b[43m \u001b[49m\u001b[43my\u001b[49m\u001b[43m \u001b[49m\u001b[38;5;241;43m=\u001b[39;49m\u001b[43m \u001b[49m\u001b[43mx\u001b[49m\u001b[43m[\u001b[49m\u001b[43m:\u001b[49m\u001b[43m,\u001b[49m\u001b[43m \u001b[49m\u001b[38;5;241;43m1\u001b[39;49m\u001b[43m]\u001b[49m\u001b[43m)\u001b[49m\u001b[43m,\u001b[49m\u001b[43m \u001b[49m\u001b[43mlabel\u001b[49m\u001b[43m \u001b[49m\u001b[38;5;241;43m=\u001b[39;49m\u001b[43m \u001b[49m\u001b[43my\u001b[49m\u001b[43m)\u001b[49m\n",
      "\u001b[1;31mTypeError\u001b[0m: DataFrame.__init__() got an unexpected keyword argument 'label'"
     ]
    }
   ],
   "source": [
    "df = pd.DataFrame(dict(x = x[:,0], y = x[:, 1]), label = y)"
   ]
  },
  {
   "cell_type": "code",
   "execution_count": 16,
   "id": "65d2020f-aed0-45ff-b2d6-588d0a6921ff",
   "metadata": {
    "scrolled": true
   },
   "outputs": [
    {
     "ename": "NameError",
     "evalue": "name 'df' is not defined",
     "output_type": "error",
     "traceback": [
      "\u001b[1;31m---------------------------------------------------------------------------\u001b[0m",
      "\u001b[1;31mNameError\u001b[0m                                 Traceback (most recent call last)",
      "Cell \u001b[1;32mIn[16], line 1\u001b[0m\n\u001b[1;32m----> 1\u001b[0m \u001b[43mdf\u001b[49m\n",
      "\u001b[1;31mNameError\u001b[0m: name 'df' is not defined"
     ]
    }
   ],
   "source": [
    "df"
   ]
  },
  {
   "cell_type": "code",
   "execution_count": null,
   "id": "4d1ba17a-1e71-4f23-b0b7-24b892e27c58",
   "metadata": {},
   "outputs": [],
   "source": [
    "# 데이터를 이미지로 표시하는 시각화"
   ]
  }
 ],
 "metadata": {
  "kernelspec": {
   "display_name": "Python 3 (ipykernel)",
   "language": "python",
   "name": "python3"
  },
  "language_info": {
   "codemirror_mode": {
    "name": "ipython",
    "version": 3
   },
   "file_extension": ".py",
   "mimetype": "text/x-python",
   "name": "python",
   "nbconvert_exporter": "python",
   "pygments_lexer": "ipython3",
   "version": "3.10.14"
  }
 },
 "nbformat": 4,
 "nbformat_minor": 5
}
